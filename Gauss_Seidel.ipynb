{
 "cells": [
  {
   "cell_type": "code",
   "execution_count": 8,
   "metadata": {},
   "outputs": [],
   "source": [
    "import numpy as np"
   ]
  },
  {
   "attachments": {},
   "cell_type": "markdown",
   "metadata": {},
   "source": [
    "## Taking Inputs as matrix form Ax=B"
   ]
  },
  {
   "cell_type": "code",
   "execution_count": 14,
   "metadata": {},
   "outputs": [
    {
     "name": "stdout",
     "output_type": "stream",
     "text": [
      "Enter the entries of matrix A in a single line (separated by space): \n",
      "[[20  1 -2]\n",
      " [ 3 20 -1]\n",
      " [ 2 -3 20]]\n",
      "Enter the entries of matrix B in a single line (separated by space): \n",
      "[[ 17]\n",
      " [-18]\n",
      " [ 25]]\n"
     ]
    }
   ],
   "source": [
    "print(' ||| PLEASE INPUT EQUATION MATRIX THAT CAN BE CONVERTED TO DIAGONAL DOMINANCE OTHERWISE THIS METHOD WONT WORK! |||')\n",
    "n = int(input(\"Enter the number of equations/variables: \"))\n",
    "print(\"Enter the entries of matrix A in a single line (separated by space): \")\n",
    "entriesA = list(map(int, input().split()))\n",
    "matrixA = np.array(entriesA).reshape(n, n)\n",
    "print(matrixA)\n",
    "\n",
    "print(\"Enter the entries of matrix B in a single line (separated by space): \")\n",
    "\n",
    "entriesB = list(map(int, input().split()))\n",
    "matrixB = np.array(entriesB).reshape(n, 1)\n",
    "print(matrixB)\n"
   ]
  },
  {
   "attachments": {},
   "cell_type": "markdown",
   "metadata": {},
   "source": [
    "## diagonal dominance"
   ]
  },
  {
   "cell_type": "code",
   "execution_count": 15,
   "metadata": {},
   "outputs": [
    {
     "name": "stdout",
     "output_type": "stream",
     "text": [
      "Matrix A after rearrangement:\n",
      "[[20  1 -2]\n",
      " [ 3 20 -1]\n",
      " [ 2 -3 20]]\n",
      "Matrix B after rearrangement:\n",
      "[[ 17]\n",
      " [-18]\n",
      " [ 25]]\n"
     ]
    }
   ],
   "source": [
    "for i in range(n):\n",
    "    max_row = i\n",
    "    for j in range(i+1, n):\n",
    "        if abs(matrixA[j][i]) > abs(matrixA[max_row][i]):\n",
    "            max_row = j\n",
    "    # Swap rows\n",
    "    matrixA[[i, max_row]] = matrixA[[max_row, i]]\n",
    "    matrixB[[i, max_row]] = matrixB[[max_row, i]]\n",
    "    # Swap columns\n",
    "    matrixA[:, [i, max_row]] = matrixA[:, [max_row, i]]\n",
    "\n",
    "print(\"Matrix A after rearrangement:\")\n",
    "print(matrixA)\n",
    "print(\"Matrix B after rearrangement:\")\n",
    "print(matrixB)\n"
   ]
  },
  {
   "attachments": {},
   "cell_type": "markdown",
   "metadata": {},
   "source": [
    "## Taking initial guess or defaulting to zero"
   ]
  },
  {
   "cell_type": "code",
   "execution_count": 31,
   "metadata": {},
   "outputs": [],
   "source": [
    "x = np.zeros((n, 1))\n",
    "use_default_guess = input(\"Do you want to use zero as the default initial guess? (Y/N)\").lower() == \"y\"\n",
    "if not use_default_guess:\n",
    "        print(\"Enter the initial guesses for x in a single line (separated by space): \")\n",
    "        entriesX = list(map(int, input().split()))\n",
    "        x = np.array(entriesX).reshape(n, 1)\n",
    "\n"
   ]
  },
  {
   "attachments": {},
   "cell_type": "markdown",
   "metadata": {},
   "source": [
    "## rearranging values to form equations and perform gauss seidal"
   ]
  },
  {
   "cell_type": "code",
   "execution_count": 32,
   "metadata": {},
   "outputs": [
    {
     "name": "stdout",
     "output_type": "stream",
     "text": [
      "Iteration 1 Solution vector: \n",
      " [[ 0.85    ]\n",
      " [-1.0275  ]\n",
      " [ 1.010875]]\n",
      "Iteration 2 Solution vector: \n",
      " [[ 1.0024625 ]\n",
      " [-0.99982563]\n",
      " [ 0.99977991]]\n",
      "Iteration 3 Solution vector: \n",
      " [[ 0.99996927]\n",
      " [-1.0000064 ]\n",
      " [ 1.00000211]]\n",
      "Iteration 4 Solution vector: \n",
      " [[ 1.00000053]\n",
      " [-0.99999997]\n",
      " [ 0.99999995]]\n",
      "Gauss-Seidel method converged after 4 iterations.\n",
      "Solution vector:\n",
      "[[ 1.00000053]\n",
      " [-0.99999997]\n",
      " [ 0.99999995]]\n"
     ]
    }
   ],
   "source": [
    "max_iter = 10000\n",
    "tolerance = 1e-4\n",
    "\n",
    "for k in range(max_iter):\n",
    "    x_old = x.copy()\n",
    "    for i in range(n):\n",
    "        s1 = np.dot(matrixA[i,:i], x[:i])\n",
    "        s2 = np.dot(matrixA[i,(i+1):], x_old[(i+1):])\n",
    "        x[i] = (matrixB[i] - s1 - s2) / matrixA[i,i]\n",
    "    # Print current solution vector at each iteration\n",
    "    print(\"Iteration\", k+1, \"Solution vector: \\n\", x)\n",
    "    # Check for convergence\n",
    "    if np.max(np.abs(x - x_old)) < tolerance:\n",
    "        print(\"Gauss-Seidel method converged after\", k+1, \"iterations.\")\n",
    "        print(\"Solution vector:\")\n",
    "        print(x)\n",
    "        break\n",
    "else:\n",
    "    print(\"Gauss-Seidel method did not converge after\", max_iter, \"iterations.\")\n",
    "    print(\"Solution vector:\")\n",
    "    print(x)"
   ]
  },
  {
   "cell_type": "markdown",
   "metadata": {},
   "source": []
  }
 ],
 "metadata": {
  "kernelspec": {
   "display_name": "mlp",
   "language": "python",
   "name": "python3"
  },
  "language_info": {
   "codemirror_mode": {
    "name": "ipython",
    "version": 3
   },
   "file_extension": ".py",
   "mimetype": "text/x-python",
   "name": "python",
   "nbconvert_exporter": "python",
   "pygments_lexer": "ipython3",
   "version": "3.11.2"
  },
  "orig_nbformat": 4
 },
 "nbformat": 4,
 "nbformat_minor": 2
}
